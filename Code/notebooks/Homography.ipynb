{
 "metadata": {
  "language_info": {
   "codemirror_mode": {
    "name": "ipython",
    "version": 3
   },
   "file_extension": ".py",
   "mimetype": "text/x-python",
   "name": "python",
   "nbconvert_exporter": "python",
   "pygments_lexer": "ipython3",
   "version": "3.6.9-final"
  },
  "orig_nbformat": 2,
  "kernelspec": {
   "name": "python3",
   "display_name": "Python 3",
   "language": "python"
  }
 },
 "nbformat": 4,
 "nbformat_minor": 2,
 "cells": [
  {
   "cell_type": "code",
   "execution_count": 8,
   "metadata": {},
   "outputs": [],
   "source": [
    "import cv2\n",
    "import numpy as np\n",
    "import matplotlib.pyplot as plt"
   ]
  },
  {
   "cell_type": "code",
   "execution_count": 9,
   "metadata": {},
   "outputs": [],
   "source": [
    "def computeSVD(mat):   \n",
    "    m, n = mat.shape\n",
    "\n",
    "    T1 = np.dot(mat, mat.transpose())\n",
    "    T2 = np.dot(mat.transpose(), mat) \n",
    "    #print(\"T1 = \", T1)\n",
    "\n",
    "\n",
    "    ev1, U = np.linalg.eig(T1)\n",
    "    ev2, V = np.linalg.eig(T2)\n",
    "\n",
    "\n",
    "    #sort the eigen values and vectors\n",
    "    idx1 = np.flip(np.argsort(ev1))\n",
    "    ev1 = ev1[idx1]\n",
    "    U = U[:, idx1]\n",
    "\n",
    "    idx2 = np.flip(np.argsort(ev2))\n",
    "    ev2 = ev2[idx2]\n",
    "    V = V[:, idx2]\n",
    "\n",
    "    E = np.zeros([m, n])\n",
    "\n",
    "    var = np.minimum(m, n)\n",
    "\n",
    "    for j in range(var):\n",
    "        E[j,j] = np.abs(np.sqrt(ev1[j]))  \n",
    "    \n",
    "    # verify_term =  np.matrix.round(np.dot(V, np.dot(E.transpose(), np.dot(E, V.transpose()))), 0)\n",
    "    # verify =  (T2[0,:] == verify_term[0,:])\n",
    "\n",
    "    # if np.any(verify) == False:\n",
    "    #     idx = np.where(verify == True)\n",
    "    #     V[:, idx] = -V[:, idx]\n",
    "    \n",
    "    # verify_term =  np.matrix.round(np.dot(U, np.dot(E, np.dot(E.transpose(), U.transpose()))), 0)\n",
    "    # verify =  (T1[0,:] == -verify_term[0,:])\n",
    "    # if np.any(verify) == True:\n",
    "    #     idx = np.where(verify == True)\n",
    "    #     U[:, idx] = -U[:, idx]\n",
    "\n",
    "    return U, E, V\n",
    "    "
   ]
  },
  {
   "cell_type": "code",
   "execution_count": 10,
   "metadata": {},
   "outputs": [],
   "source": [
    "def testSVD(A):\n",
    "    mat = A\n",
    "    #print(\"Original mat = \", mat)\n",
    "    u, e, v = computeSVD(mat)\n",
    "    U,ev, V = np.linalg.svd(A)\n",
    "    print(\"Restoring matrix, \", np.dot(u, np.dot(e,v.transpose())))"
   ]
  },
  {
   "cell_type": "code",
   "execution_count": 11,
   "metadata": {},
   "outputs": [],
   "source": [
    "def computeHomography(set1, set2):\n",
    "\n",
    "    if (len(set1) < 4) or (len(set2) < 4):\n",
    "        print(\"Need atleast four points to compute SVD.\")\n",
    "        return 0\n",
    "\n",
    "    x = set1[:, 0]\n",
    "    y = set1[:, 1]\n",
    "    xp = set2[:, 0]\n",
    "    yp = set2[:,1]\n",
    "\n",
    "    nrows = 8\n",
    "    ncols = 9\n",
    "    \n",
    "    A = []\n",
    "    for i in range(int(nrows/2)):\n",
    "        row1 = np.array([-x[i], -y[i], -1, 0, 0, 0, x[i]*xp[i], y[i]*xp[i], xp[i]])\n",
    "        A.append(row1)\n",
    "        row2 = np.array([0, 0, 0, -x[i], -y[i], -1, x[i]*yp[i], y[i]*yp[i], yp[i]])\n",
    "        A.append(row2)\n",
    "\n",
    "    A = np.array(A)\n",
    "    print(\"Computing Homography matrix for \")\n",
    "    print(A)\n",
    "    U, E, V = computeSVD(A)\n",
    "    H_vertical = V[:, V.shape[1] - 1]\n",
    "    H = H_vertical.reshape([3,3])\n",
    "    H = H / H[2,2]\n",
    "    print(\"the Homography matrix is\")\n",
    "    print(H)\n",
    "    #print(cv2.findHomography(set1, set2))\n",
    "    return H"
   ]
  },
  {
   "cell_type": "code",
   "execution_count": 12,
   "metadata": {},
   "outputs": [],
   "source": [
    "def main():\n",
    "    print(\"Solving question 2 ...\")\n",
    "    set1 = np.array([[5, 5], [150, 5], [150, 150], [5, 150]])\n",
    "    set2 = np.array([[100, 100], [200, 80], [220, 80], [100, 200]])\n",
    "    #testSVD()\n",
    "    computeHomography(set1, set2)\n",
    "\n"
   ]
  },
  {
   "cell_type": "code",
   "execution_count": 13,
   "metadata": {
    "tags": []
   },
   "outputs": [
    {
     "output_type": "stream",
     "name": "stdout",
     "text": [
      "Solving question 2 ...\nComputing Homography matrix for \n[[   -5    -5    -1     0     0     0   500   500   100]\n [    0     0     0    -5    -5    -1   500   500   100]\n [ -150    -5    -1     0     0     0 30000  1000   200]\n [    0     0     0  -150    -5    -1 12000   400    80]\n [ -150  -150    -1     0     0     0 33000 33000   220]\n [    0     0     0  -150  -150    -1 12000 12000    80]\n [   -5  -150    -1     0     0     0   500 15000   100]\n [    0     0     0    -5  -150    -1  1000 30000   200]]\nthe Homography matrix is\n[[ 6.96774195e+00 -6.45161293e-01  8.06451613e+01]\n [ 2.32258065e+00 -5.16129035e-01  1.03225806e+02]\n [ 3.09677420e-02 -6.45161292e-03  1.00000000e+00]]\n"
     ]
    }
   ],
   "source": [
    "if __name__ == '__main__':\n",
    "    main()"
   ]
  },
  {
   "cell_type": "code",
   "execution_count": null,
   "metadata": {},
   "outputs": [],
   "source": []
  },
  {
   "cell_type": "code",
   "execution_count": null,
   "metadata": {},
   "outputs": [],
   "source": []
  },
  {
   "cell_type": "code",
   "execution_count": null,
   "metadata": {},
   "outputs": [],
   "source": []
  }
 ]
}